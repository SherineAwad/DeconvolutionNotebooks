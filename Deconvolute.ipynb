{
 "cells": [
  {
   "cell_type": "code",
   "execution_count": null,
   "metadata": {},
   "outputs": [],
   "source": [
    "import csv\n",
    "import re\n",
    "import matplotlib.pyplot as plt\n",
    "import pandas as pd\n",
    "import numpy as np "
   ]
  },
  {
   "cell_type": "code",
   "execution_count": null,
   "metadata": {},
   "outputs": [],
   "source": [
    "def read_file(filename):\n",
    "    myfile = open(filename)\n",
    "    counts = {} \n",
    "    genes = []\n",
    "    for  row in myfile:\n",
    "\n",
    "         line = row.split()\n",
    "         #genes.append(line[0])\n",
    "         #counts.append(line[1])\n",
    "         counts[line[0]] = line[1]\n",
    " \n",
    "    return ( counts)"
   ]
  },
  {
   "cell_type": "code",
   "execution_count": null,
   "metadata": {},
   "outputs": [],
   "source": [
    "c1 = read_file('ADI14_1.tab')\n",
    "c2 = read_file('ADI14_2.tab')\n",
    "c3 = read_file('ADI14_3.tab')\n",
    "c4 = read_file('PAD00_1.tab') \n",
    "c5 = read_file('PAD00_3.tab') \n",
    "c6 = read_file('PAD_002.tab')\n",
    "c7 = read_file('PAZ00_1.tab')\n",
    "c8 = read_file('PAZ00_2.tab')\n",
    "c9 = read_file('PAZ00_3.tab')\n",
    "c10 = read_file('PAZ14_1.tab')\n",
    "c11 = read_file('PAZ14_2.tab')\n",
    "c12 = read_file('PAZ14_3.tab')\n",
    "print('Done')"
   ]
  },
  {
   "cell_type": "code",
   "execution_count": 12,
   "metadata": {},
   "outputs": [
    {
     "name": "stdout",
     "output_type": "stream",
     "text": [
      "Done\n"
     ]
    }
   ],
   "source": [
    "def merge(): \n",
    "    fp = open('adi_pad_paz.txt','w+') \n",
    "    for i in c1: \n",
    "        fp.write(i+'\\t'+c1[i]+'\\t'+c2[i]+'\\t'+ c3[i]+'\\t'+ c4[i]+'\\t'+c5[i]+'\\t'+c6[i]+'\\t'+c[7]+'\\t'+c[8]+'\\t'+c[9]+'\\t'+c[10]+'\\t'+c[11]+'\\t'+c[12]+'\\t'+'\\n') \n",
    "    fp.close() \n",
    "print('Done')"
   ]
  },
  {
   "cell_type": "code",
   "execution_count": null,
   "metadata": {},
   "outputs": [],
   "source": [
    "merge()"
   ]
  },
  {
   "cell_type": "markdown",
   "metadata": {},
   "source": [
    "# Using raw counts (Against xCell requirement)"
   ]
  },
  {
   "cell_type": "code",
   "execution_count": null,
   "metadata": {
    "scrolled": false
   },
   "outputs": [],
   "source": [
    "\n",
    "data =np.loadtxt(\"xCell_adi_pad_xCell_0124021619.txt\", delimiter='\\t', skiprows=1,usecols=range(1,6))\n",
    "\n",
    "cells=['Adipocytes','Astrocytes','B-cells','Basophils','CD4+ T-cells','CD4+ Tcm','CD4+ Tem','CD4+ memory T-cells', \\\n",
    "   'CD4+ naive T-cells','CD8+ T-cells','CD8+ Tcm','CD8+ Tem','CD8+ naive T-cells','CLP','CMP','Chondrocytes', \\\n",
    "   'Class-switched memory B-cells','DC','Endothelial cells','Eosinophils','Epithelial cells','Erythrocytes', \\\n",
    "   'Fibroblasts','GMP','HSC','Hepatocytes','Keratinocytes','MEP','MPP','MSC','Macrophages','Macrophages M1', \\\n",
    "   'Macrophages M2','Mast cells','Megakaryocytes','Melanocytes','Memory B-cells','Mesangial cells','Monocytes', \\\n",
    "   'Myocytes','NK cells','NKT','Neurons','Neutrophils','Osteoblast','Pericytes','Plasma cells','Platelets', \\\n",
    "   'Preadipocytes','Sebocytes','Skeletal muscle','Smooth muscle','Tgd cells','Th1 cells','Th2 cells','Tregs', \\\n",
    "   'aDC','cDC','iDC','Lymphatic Endothelial cells','Microvascular Endothelial cells','naive B-cells','pDC','pro B-cells']\n",
    "\n",
    "for j in range(0,64): \n",
    "    cells_adi = []\n",
    "    cells_pad = []\n",
    "    cell  = data[j]\n",
    "    for i in range(1,3): \n",
    "        cells_adi.append(cell[i])\n",
    "    for i in range(3,5): \n",
    "        cells_pad.append(cell[i])\n",
    "\n",
    "\n",
    "    plt.figure(figsize=(10,10), dpi= 80, facecolor='w', edgecolor='k')\n",
    "    plt.boxplot ([cells_adi,cells_pad], showmeans=True)\n",
    "    plt.xticks([1,2], ['Adi', 'Pad'])\n",
    "    figname = cells[j] \n",
    "    print(figname)\n",
    "    plt.xlabel(figname,fontsize=20)\n",
    "    plt.tick_params(labelsize = 17)\n",
    "    plt.ylabel('xCell Fraction',fontsize=20)\n",
    "    plt.savefig(figname+'.png')\n",
    "    plt.show()"
   ]
  },
  {
   "cell_type": "markdown",
   "metadata": {},
   "source": [
    "# Using normalized CPM "
   ]
  },
  {
   "cell_type": "code",
   "execution_count": null,
   "metadata": {
    "scrolled": false
   },
   "outputs": [],
   "source": [
    "\n",
    "data =np.loadtxt(\"xcell_adi_pad_cpm.txt\", delimiter='\\t', skiprows=1,usecols=range(1,6))\n",
    "\n",
    "cells=['Adipocytes','Astrocytes','B-cells','Basophils','CD4+ T-cells','CD4+ Tcm','CD4+ Tem','CD4+ memory T-cells', \\\n",
    "   'CD4+ naive T-cells','CD8+ T-cells','CD8+ Tcm','CD8+ Tem','CD8+ naive T-cells','CLP','CMP','Chondrocytes', \\\n",
    "   'Class-switched memory B-cells','DC','Endothelial cells','Eosinophils','Epithelial cells','Erythrocytes', \\\n",
    "   'Fibroblasts','GMP','HSC','Hepatocytes','Keratinocytes','MEP','MPP','MSC','Macrophages','Macrophages M1', \\\n",
    "   'Macrophages M2','Mast cells','Megakaryocytes','Melanocytes','Memory B-cells','Mesangial cells','Monocytes', \\\n",
    "   'Myocytes','NK cells','NKT','Neurons','Neutrophils','Osteoblast','Pericytes','Plasma cells','Platelets', \\\n",
    "   'Preadipocytes','Sebocytes','Skeletal muscle','Smooth muscle','Tgd cells','Th1 cells','Th2 cells','Tregs', \\\n",
    "   'aDC','cDC','iDC','Lymphatic Endothelial cells','Microvascular Endothelial cells','naive B-cells','pDC','pro B-cells']\n",
    "\n",
    "for j in range(0,64): \n",
    "    cells_adi = []\n",
    "    cells_pad = []\n",
    "    cell  = data[j]\n",
    "    for i in range(1,3): \n",
    "        cells_adi.append(cell[i])\n",
    "    for i in range(3,5): \n",
    "        cells_pad.append(cell[i])\n",
    "\n",
    "\n",
    "    plt.figure(figsize=(10,10), dpi= 80, facecolor='w', edgecolor='k')\n",
    "    plt.boxplot ([cells_adi,cells_pad], showmeans=True)\n",
    "    plt.xticks([1,2], ['Adi', 'Pad'])\n",
    "    figname = cells[j] \n",
    "    print(figname)\n",
    "    plt.xlabel(figname,fontsize=20)\n",
    "    plt.tick_params(labelsize = 17)\n",
    "    plt.ylabel('xCell Fraction',fontsize=20)\n",
    "    plt.savefig(figname+'.png')\n",
    "    plt.show()"
   ]
  },
  {
   "cell_type": "code",
   "execution_count": null,
   "metadata": {},
   "outputs": [],
   "source": []
  }
 ],
 "metadata": {
  "kernelspec": {
   "display_name": "Python 2",
   "language": "python",
   "name": "python2"
  },
  "language_info": {
   "codemirror_mode": {
    "name": "ipython",
    "version": 2
   },
   "file_extension": ".py",
   "mimetype": "text/x-python",
   "name": "python",
   "nbconvert_exporter": "python",
   "pygments_lexer": "ipython2",
   "version": "2.7.15"
  }
 },
 "nbformat": 4,
 "nbformat_minor": 2
}
