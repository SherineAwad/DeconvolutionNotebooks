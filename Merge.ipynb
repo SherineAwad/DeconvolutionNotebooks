{
 "cells": [
  {
   "cell_type": "code",
   "execution_count": 1,
   "metadata": {},
   "outputs": [],
   "source": [
    "import csv\n",
    "import re\n",
    "import matplotlib.pyplot as plt\n",
    "import pandas as pd\n",
    "import numpy as np "
   ]
  },
  {
   "cell_type": "code",
   "execution_count": 2,
   "metadata": {},
   "outputs": [],
   "source": [
    "def read_file(filename):\n",
    "    myfile = open(filename)\n",
    "    counts = {} \n",
    "    genes = []\n",
    "    for  row in myfile:\n",
    "\n",
    "         line = row.split()\n",
    "         #genes.append(line[0])\n",
    "         #counts.append(line[1])\n",
    "         counts[line[0]] = line[1]\n",
    " \n",
    "    return ( counts)"
   ]
  },
  {
   "cell_type": "code",
   "execution_count": 3,
   "metadata": {},
   "outputs": [
    {
     "name": "stdout",
     "output_type": "stream",
     "text": [
      "Done\n"
     ]
    }
   ],
   "source": [
    "c1 = read_file('ADI14_1.tab')\n",
    "c2 = read_file('ADI14_2.tab')\n",
    "c3 = read_file('ADI14_3.tab')\n",
    "c4 = read_file('PAD00_1.tab') \n",
    "c5 = read_file('PAD00_3.tab') \n",
    "c6 = read_file('PAD_002.tab')\n",
    "c7 = read_file('PAZ00_1.tab')\n",
    "c8 = read_file('PAZ00_2.tab')\n",
    "c9 = read_file('PAZ00_3.tab')\n",
    "c10 = read_file('PAZ14_1.tab')\n",
    "c11 = read_file('PAZ14_2.tab')\n",
    "c12 = read_file('PAZ14_3.tab')\n",
    "print('Done')"
   ]
  },
  {
   "cell_type": "code",
   "execution_count": 6,
   "metadata": {},
   "outputs": [
    {
     "name": "stdout",
     "output_type": "stream",
     "text": [
      "Done\n"
     ]
    }
   ],
   "source": [
    "def merge(outfile): \n",
    "    fp = open(outfile,'w+') \n",
    "    for i in c1: \n",
    "        #fp.write(i+'\\t'+c1[i]+'\\t'+c2[i]+'\\t'+ c3[i]+'\\t'+ c4[i]+'\\t'+c5[i]+'\\t'+c6[i]+'\\t'+c7[i]+'\\t'+c8[i]+'\\t'+c9[i]+'\\t'+c10[i]+'\\t'+c11[i]+'\\t'+c12[i]+'\\t'+'\\n')\n",
    "        #fp.write(i+'\\t'+c1[i]+'\\t'+c2[i]+'\\t'+ c3[i]+'\\t'+ c4[i]+'\\t'+c5[i]+'\\t'+c6[i]+'\\n') \n",
    "        fp.write(i+'\\t'+c1[i]+'\\t'+c2[i]+'\\t'+ c3[i]+'\\t'+ c7[i]+'\\t'+c8[i]+'\\t'+c9[i]+c10[i]+'\\t'+c11[i]+c12[i]+'\\n')\n",
    "    fp.close() \n",
    "print('Done')"
   ]
  },
  {
   "cell_type": "code",
   "execution_count": 7,
   "metadata": {},
   "outputs": [
    {
     "name": "stdout",
     "output_type": "stream",
     "text": [
      "Done\n"
     ]
    }
   ],
   "source": [
    "merge('adi_paz.txt')\n",
    "print('Done')"
   ]
  },
  {
   "cell_type": "code",
   "execution_count": null,
   "metadata": {},
   "outputs": [],
   "source": []
  }
 ],
 "metadata": {
  "kernelspec": {
   "display_name": "Python 2",
   "language": "python",
   "name": "python2"
  },
  "language_info": {
   "codemirror_mode": {
    "name": "ipython",
    "version": 2
   },
   "file_extension": ".py",
   "mimetype": "text/x-python",
   "name": "python",
   "nbconvert_exporter": "python",
   "pygments_lexer": "ipython2",
   "version": "2.7.15"
  }
 },
 "nbformat": 4,
 "nbformat_minor": 2
}
