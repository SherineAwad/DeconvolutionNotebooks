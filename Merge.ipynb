{
 "cells": [
  {
   "cell_type": "code",
   "execution_count": 3,
   "metadata": {},
   "outputs": [],
   "source": [
    "import csv\n",
    "import re\n",
    "import matplotlib.pyplot as plt\n",
    "import pandas as pd\n",
    "import numpy as np "
   ]
  },
  {
   "cell_type": "code",
   "execution_count": 4,
   "metadata": {},
   "outputs": [],
   "source": [
    "def read_file(filename):\n",
    "    myfile = open(filename)\n",
    "    counts = {} \n",
    "    genes = []\n",
    "    for  row in myfile:\n",
    "\n",
    "         line = row.split()\n",
    "         #genes.append(line[0])\n",
    "         #counts.append(line[1])\n",
    "         counts[line[0]] = line[1]\n",
    " \n",
    "    return ( counts)"
   ]
  },
  {
   "cell_type": "code",
   "execution_count": 3,
   "metadata": {},
   "outputs": [
    {
     "name": "stdout",
     "output_type": "stream",
     "text": [
      "Done\n"
     ]
    }
   ],
   "source": [
    "c1 = read_file('ADI14_1.tab')\n",
    "c2 = read_file('ADI14_2.tab')\n",
    "c3 = read_file('ADI14_3.tab')\n",
    "c4 = read_file('PAD00_1.tab') \n",
    "c5 = read_file('PAD00_3.tab') \n",
    "c6 = read_file('PAD_002.tab')\n",
    "c7 = read_file('PAZ00_1.tab')\n",
    "c8 = read_file('PAZ00_2.tab')\n",
    "c9 = read_file('PAZ00_3.tab')\n",
    "c10 = read_file('PAZ14_1.tab')\n",
    "c11 = read_file('PAZ14_2.tab')\n",
    "c12 = read_file('PAZ14_3.tab')\n",
    "print('Done')"
   ]
  },
  {
   "cell_type": "code",
   "execution_count": 6,
   "metadata": {},
   "outputs": [
    {
     "name": "stdout",
     "output_type": "stream",
     "text": [
      "Done\n"
     ]
    }
   ],
   "source": [
    "'''\n",
    "def merge(outfile): \n",
    "    fp = open(outfile,'w+') \n",
    "    for i in c1: \n",
    "        #fp.write(i+'\\t'+c1[i]+'\\t'+c2[i]+'\\t'+ c3[i]+'\\t'+ c4[i]+'\\t'+c5[i]+'\\t'+c6[i]+'\\t'+c7[i]+'\\t'+c8[i]+'\\t'+c9[i]+'\\t'+c10[i]+'\\t'+c11[i]+'\\t'+c12[i]+'\\t'+'\\n')\n",
    "        #fp.write(i+'\\t'+c1[i]+'\\t'+c2[i]+'\\t'+ c3[i]+'\\t'+ c4[i]+'\\t'+c5[i]+'\\t'+c6[i]+'\\n') \n",
    "        fp.write(i+'\\t'+c1[i]+'\\t'+c2[i]+'\\t'+ c3[i]+'\\t'+ c7[i]+'\\t'+c8[i]+'\\t'+c9[i]+c10[i]+'\\t'+c11[i]+c12[i]+'\\n')\n",
    "    fp.close() \n",
    "print('Done')\n",
    "'''"
   ]
  },
  {
   "cell_type": "code",
   "execution_count": 7,
   "metadata": {},
   "outputs": [
    {
     "name": "stdout",
     "output_type": "stream",
     "text": [
      "Done\n"
     ]
    }
   ],
   "source": [
    "merge('adi_paz.txt')\n",
    "print('Done')"
   ]
  },
  {
   "cell_type": "code",
   "execution_count": 18,
   "metadata": {},
   "outputs": [
    {
     "name": "stdout",
     "output_type": "stream",
     "text": [
      "Done\n"
     ]
    }
   ],
   "source": [
    "d01 = read_file('D01_1.tab')\n",
    "d02 = read_file('D01_2.tab')\n",
    "d03 = read_file('D01_3.tab')\n",
    "d21 = read_file('D02_1.tab') \n",
    "d22 = read_file('D02_2.tab') \n",
    "d23 = read_file('D02_3.tab')\n",
    "d41 = read_file('D04_1.tab')\n",
    "d42 = read_file('D04_2.tab')\n",
    "d43 = read_file('D04_3.tab')\n",
    "d81 = read_file('D08_1.tab')\n",
    "d82 = read_file('D08_2.tab')\n",
    "d83 = read_file('D08_3.tab')\n",
    "d101 = read_file('D10_1.tab')\n",
    "d102 = read_file('D10_2.tab')\n",
    "d103 = read_file('D10_3.tab')\n",
    "d121 = read_file('D12_1.tab')\n",
    "d122 = read_file('D12_2.tab')\n",
    "d123 = read_file('D12_3.tab')\n",
    "d201 = read_file('D20_1.tab')\n",
    "d202 = read_file('D20_2.tab')\n",
    "d203 = read_file('D20_3.tab')\n",
    "d301 = read_file('D30_1.tab')\n",
    "d302 = read_file('D30_2.tab')\n",
    "d303 = read_file('D30_3.tab')\n",
    "print('Done')"
   ]
  },
  {
   "cell_type": "code",
   "execution_count": 30,
   "metadata": {},
   "outputs": [
    {
     "name": "stdout",
     "output_type": "stream",
     "text": [
      "Done\n"
     ]
    }
   ],
   "source": [
    "def merge(outfile): \n",
    "    fp = open(outfile,'w+') \n",
    "    for i in d01: \n",
    "         fp.write(i+','+d01[i]+','+d02[i]+','+ d03[i]+','+ d21[i]+','+d22[i]+','+d23[i]+','+d41[i]+','\n",
    "         +d42[i]+','+d43[i]+','+d81[i]+','+d82[i]+','+ d83[i]+','+d101[i]+','+d102[i]+','+ d103[i]+','+d121[i]+','+d122[i]+','+ d123[i]\n",
    "            +','+d201[i]+','+d202[i]+','+ d203[i]+','+d301[i]+','+d302[i]+','+ d303[i]+'\\n')\n",
    "    fp.close() \n",
    "print('Done')\n"
   ]
  },
  {
   "cell_type": "code",
   "execution_count": 32,
   "metadata": {},
   "outputs": [],
   "source": [
    "merge('days.txt')\n"
   ]
  },
  {
   "cell_type": "code",
   "execution_count": null,
   "metadata": {},
   "outputs": [],
   "source": []
  }
 ],
 "metadata": {
  "kernelspec": {
   "display_name": "Python 3",
   "language": "python",
   "name": "python3"
  },
  "language_info": {
   "codemirror_mode": {
    "name": "ipython",
    "version": 3
   },
   "file_extension": ".py",
   "mimetype": "text/x-python",
   "name": "python",
   "nbconvert_exporter": "python",
   "pygments_lexer": "ipython3",
   "version": "3.7.2"
  }
 },
 "nbformat": 4,
 "nbformat_minor": 2
}
