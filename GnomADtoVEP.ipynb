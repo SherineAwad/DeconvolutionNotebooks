{
 "cells": [
  {
   "cell_type": "code",
   "execution_count": 49,
   "metadata": {},
   "outputs": [],
   "source": [
    "import csv\n",
    "import re\n",
    "import matplotlib.pyplot as plt\n",
    "import pandas as pd\n",
    "import numpy as np "
   ]
  },
  {
   "cell_type": "code",
   "execution_count": 60,
   "metadata": {},
   "outputs": [],
   "source": [
    "def read_file(filename):\n",
    "    myfile = open(filename)\n",
    "    chrs = []\n",
    "    pos = []\n",
    "    a = []\n",
    "    b = []\n",
    "    for  row in myfile:\n",
    "        line = row.strip().split(',') \n",
    "        chrs.append(line[0])\n",
    "        pos.append(line[1])\n",
    "        a.append(line[2])\n",
    "        b.append(line[3])\n",
    "    return (chrs,pos,a,b)"
   ]
  },
  {
   "cell_type": "code",
   "execution_count": 61,
   "metadata": {},
   "outputs": [
    {
     "name": "stdout",
     "output_type": "stream",
     "text": [
      "Done\n"
     ]
    }
   ],
   "source": [
    "def vep_format(infile,outfile): \n",
    "    chrs, pos,a, b = read_file(infile)\n",
    "    fp = open(outfile,'w+')\n",
    "    for i in range(0,len(chrs)): \n",
    "        fp.write(chrs[i]+' '+pos[i]+' '+pos[i]+' '+a[i]+'/'+ b[i]+'\\n')\n",
    "print('Done')\n",
    " "
   ]
  },
  {
   "cell_type": "code",
   "execution_count": 62,
   "metadata": {},
   "outputs": [
    {
     "name": "stdout",
     "output_type": "stream",
     "text": [
      "Done\n"
     ]
    }
   ],
   "source": [
    "vep_format('genesvep.csv','vepformat.txt')\n",
    "print('Done')"
   ]
  },
  {
   "cell_type": "code",
   "execution_count": null,
   "metadata": {},
   "outputs": [],
   "source": []
  },
  {
   "cell_type": "code",
   "execution_count": null,
   "metadata": {},
   "outputs": [],
   "source": []
  }
 ],
 "metadata": {
  "kernelspec": {
   "display_name": "Python 2",
   "language": "python",
   "name": "python2"
  },
  "language_info": {
   "codemirror_mode": {
    "name": "ipython",
    "version": 2
   },
   "file_extension": ".py",
   "mimetype": "text/x-python",
   "name": "python",
   "nbconvert_exporter": "python",
   "pygments_lexer": "ipython2",
   "version": "2.7.15"
  }
 },
 "nbformat": 4,
 "nbformat_minor": 2
}
