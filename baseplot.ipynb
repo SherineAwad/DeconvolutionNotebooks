{
 "cells": [
  {
   "cell_type": "code",
   "execution_count": 1,
   "metadata": {},
   "outputs": [],
   "source": [
    "import numpy as np\n",
    "import matplotlib.pyplot as plt\n",
    "import matplotlib.lines as mlines\n",
    "from matplotlib.pyplot import *\n",
    "import numpy as np\n",
    "import matplotlib.ticker as mticker\n",
    "\n",
    "\n",
    "\n",
    "\n"
   ]
  },
  {
   "cell_type": "code",
   "execution_count": 5,
   "metadata": {},
   "outputs": [
    {
     "data": {
      "image/png": "[encoded data removed]",
      "text/plain": [
       "<Figure size 432x288 with 1 Axes>"
      ]
     },
     "metadata": {
      "needs_background": "light"
     },
     "output_type": "display_data"
    },
    {
     "name": "stdout",
     "output_type": "stream",
     "text": [
      "done\n"
     ]
    },
    {
     "data": {
      "text/plain": [
       "<Figure size 432x288 with 0 Axes>"
      ]
     },
     "metadata": {},
     "output_type": "display_data"
    }
   ],
   "source": [
    "tr={}\n",
    "for line in open(\"mpg_L14489-1_Tobacco-lib-RG-10-TAGCTT_S6_R1_001.bbmap.counts.Nitab4.5_0000001g0020\"):\n",
    "        x = line.rstrip().split('\\t')\n",
    "        if x[3] not in tr.keys(): \n",
    "            tr[x[3]]=[]\n",
    "        tr[x[3]].append(x[11])\n",
    "for k, v in tr.items():\n",
    "    plot(v)\n",
    "    s = k+\".png\" \n",
    "    plt.show()\n",
    "    plt.savefig(s)\n",
    "print('done')"
   ]
  },
  {
   "cell_type": "code",
   "execution_count": 7,
   "metadata": {},
   "outputs": [
    {
     "data": {
      "image/png": "[encoded data removed]",
      "text/plain": [
       "<Figure size 432x288 with 1 Axes>"
      ]
     },
     "metadata": {
      "needs_background": "light"
     },
     "output_type": "display_data"
    },
    {
     "name": "stdout",
     "output_type": "stream",
     "text": [
      "done\n"
     ]
    },
    {
     "data": {
      "text/plain": [
       "<Figure size 432x288 with 0 Axes>"
      ]
     },
     "metadata": {},
     "output_type": "display_data"
    }
   ],
   "source": [
    "tr={}\n",
    "for line in open(\"mpg_L14489-1_Tobacco-lib-RG-10-TAGCTT_S6_R1_001.bbmap.counts.Nitab4.5_0000002g0010\"):\n",
    "        x = line.rstrip().split('\\t')\n",
    "        if x[3] not in tr.keys(): \n",
    "            tr[x[3]]=[]\n",
    "        tr[x[3]].append(x[11])\n",
    "for k, v in tr.items():\n",
    "    plot(v)\n",
    "    s = k+\".png\" \n",
    "plt.show()\n",
    "plt.savefig(s)\n",
    "print('done')"
   ]
  },
  {
   "cell_type": "code",
   "execution_count": 8,
   "metadata": {},
   "outputs": [
    {
     "data": {
      "image/png": "[encoded data removed]",
      "text/plain": [
       "<Figure size 432x288 with 1 Axes>"
      ]
     },
     "metadata": {
      "needs_background": "light"
     },
     "output_type": "display_data"
    },
    {
     "data": {
      "image/png": "[encoded data removed]",
      "text/plain": [
       "<Figure size 432x288 with 1 Axes>"
      ]
     },
     "metadata": {
      "needs_background": "light"
     },
     "output_type": "display_data"
    },
    {
     "name": "stdout",
     "output_type": "stream",
     "text": [
      "done\n"
     ]
    },
    {
     "data": {
      "text/plain": [
       "<Figure size 432x288 with 0 Axes>"
      ]
     },
     "metadata": {},
     "output_type": "display_data"
    }
   ],
   "source": [
    "tr={}\n",
    "for line in open(\"mpg_L14489-1_Tobacco-lib-RG-10-TAGCTT_S6_R1_001.bbmap.counts.Nitab4.5_0000003g0010\"):\n",
    "        x = line.rstrip().split('\\t')\n",
    "        if x[3] not in tr.keys(): \n",
    "            tr[x[3]]=[]\n",
    "        tr[x[3]].append(x[11])\n",
    "for k, v in tr.items():\n",
    "    plot(v)\n",
    "    s = k+\".png\" \n",
    "    plt.show()\n",
    "    plt.savefig(s)\n",
    "print('done')\n"
   ]
  },
  {
   "cell_type": "code",
   "execution_count": null,
   "metadata": {},
   "outputs": [],
   "source": []
  }
 ],
 "metadata": {
  "kernelspec": {
   "display_name": "Python 3",
   "language": "python",
   "name": "python3"
  },
  "language_info": {
   "codemirror_mode": {
    "name": "ipython",
    "version": 3
   },
   "file_extension": ".py",
   "mimetype": "text/x-python",
   "name": "python",
   "nbconvert_exporter": "python",
   "pygments_lexer": "ipython3",
   "version": "3.7.3"
  }
 },
 "nbformat": 4,
 "nbformat_minor": 2
}
